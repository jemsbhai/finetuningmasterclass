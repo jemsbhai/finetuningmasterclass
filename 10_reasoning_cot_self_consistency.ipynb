{
 "cells": [
  {
   "cell_type": "markdown",
   "id": "1d9bb0a8",
   "metadata": {},
   "source": [
    "# Chain‑of‑Thought & Self‑Consistency (Few‑Shot Prompting)"
   ]
  },
  {
   "cell_type": "code",
   "execution_count": null,
   "id": "c1633064",
   "metadata": {},
   "outputs": [],
   "source": [
    "!pip -q install -U transformers accelerate\n"
   ]
  },
  {
   "cell_type": "code",
   "execution_count": null,
   "id": "a1ff6f4a",
   "metadata": {},
   "outputs": [],
   "source": [
    "import torch, random\n",
    "from transformers import AutoTokenizer, AutoModelForSeq2SeqLM\n",
    "\n",
    "base = \"google/flan-t5-small\"\n",
    "tok = AutoTokenizer.from_pretrained(base)\n",
    "model = AutoModelForSeq2SeqLM.from_pretrained(base).to(\"cuda\" if torch.cuda.is_available() else \"cpu\")\n",
    "\n",
    "examples = [\n",
    "    (\"If there are 3 boxes with 2 apples each, how many apples total?\", \"Let's think step by step. There are 3 boxes and each has 2 apples, so 3*2 = 6. The answer is 6.\"),\n",
    "    (\"Tom has 5 red balloons and buys 4 more. How many now?\", \"Let's think step by step. He had 5 and buys 4 more, so 5+4=9. The answer is 9.\"),\n",
    "]\n",
    "\n",
    "def cot_prompt(q):\n",
    "    shots = \"\\n\\n\".join([f\"Q: {a}\\nA: {b}\" for a,b in examples])\n",
    "    return shots + f\"\\n\\nQ: {q}\\nA: Let's think step by step.\"\n",
    "\n",
    "question = \"A farmer has 8 cows and buys 7 more, then sells 5. How many cows remain?\"\n",
    "inp = tok(cot_prompt(question), return_tensors=\"pt\").to(model.device)\n",
    "outs = [tok.decode(model.generate(**inp, max_new_tokens=64, do_sample=True, top_p=0.9, temperature=0.7)[0], skip_special_tokens=True) for _ in range(5)]\n",
    "outs\n"
   ]
  },
  {
   "cell_type": "code",
   "execution_count": null,
   "id": "25ed7a40",
   "metadata": {},
   "outputs": [],
   "source": [
    "# Self-consistency: take majority answer\n",
    "import re\n",
    "def extract_answer(s):\n",
    "    m = re.findall(r\"(?:answer is|=)\\s*(\\d+)\", s)\n",
    "    return m[-1] if m else None\n",
    "\n",
    "answers = [extract_answer(o) for o in outs]\n",
    "print(\"Candidates:\", answers)\n",
    "from collections import Counter\n",
    "cnt = Counter([a for a in answers if a is not None])\n",
    "print(\"Majority vote:\", cnt.most_common(1)[0] if cnt else \"No consensus\")\n"
   ]
  },
  {
   "cell_type": "markdown",
   "id": "691b4ee7",
   "metadata": {},
   "source": [
    "> Caveat: CoT increases tokens and often verbosity; combine with robust evaluation and, when possible, process supervision."
   ]
  }
 ],
 "metadata": {},
 "nbformat": 4,
 "nbformat_minor": 5
}
