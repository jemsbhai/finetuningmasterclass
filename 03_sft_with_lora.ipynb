{
 "cells": [
  {
   "cell_type": "markdown",
   "id": "44e7f778",
   "metadata": {},
   "source": [
    "# Supervised Fine‑Tuning with LoRA (Parameter‑Efficient)\n",
    "We’ll adapt a small causal LM with LoRA on a toy instruction dataset."
   ]
  },
  {
   "cell_type": "code",
   "execution_count": null,
   "id": "5cdb2efb",
   "metadata": {},
   "outputs": [],
   "source": [
    "!pip -q install -U transformers datasets accelerate peft bitsandbytes trl\n"
   ]
  },
  {
   "cell_type": "code",
   "execution_count": null,
   "id": "43a03278",
   "metadata": {},
   "outputs": [],
   "source": [
    "import torch, os, json, random\n",
    "from transformers import AutoModelForCausalLM, AutoTokenizer\n",
    "from peft import LoraConfig\n",
    "from trl import SFTTrainer, SFTConfig\n",
    "device = \"cuda\" if torch.cuda.is_available() else \"cpu\"\n",
    "print(\"Device:\", device)\n"
   ]
  },
  {
   "cell_type": "code",
   "execution_count": null,
   "id": "dbc66d57",
   "metadata": {},
   "outputs": [],
   "source": [
    "# Build a tiny instruction dataset inline (for demo). Replace with your own JSONL later.\n",
    "examples = [\n",
    "    {\"instruction\": \"Summarize the following text\", \"input\": \"Large language models can be adapted efficiently with LoRA.\", \"output\": \"LoRA lets you adapt LLMs efficiently.\"},\n",
    "    {\"instruction\": \"Translate to French\", \"input\": \"Parameter-efficient fine-tuning\", \"output\": \"Ajustement fin efficace en paramètres\"},\n",
    "    {\"instruction\": \"Write a short title\", \"input\": \"A tutorial on PEFT methods\", \"output\": \"PEFT Tutorial\"},\n",
    "    {\"instruction\": \"Extract entities\", \"input\": \"OpenAI released a new model in 2025\", \"output\": \"ORG: OpenAI; DATE: 2025\"},\n",
    "] * 64  # duplicate to have a few hundred rows\n",
    "random.shuffle(examples)\n",
    "with open(\"toy_instruct.jsonl\", \"w\") as f:\n",
    "    for ex in examples:\n",
    "        f.write(json.dumps(ex) + \"\\n\")\n"
   ]
  },
  {
   "cell_type": "code",
   "execution_count": null,
   "id": "89e55e40",
   "metadata": {},
   "outputs": [],
   "source": [
    "from datasets import load_dataset\n",
    "ds = load_dataset(\"json\", data_files=\"toy_instruct.jsonl\", split=\"train\")\n",
    "def format_row(ex):\n",
    "    if ex.get(\"input\"):\n",
    "        return f\"### Instruction\\n{ex['instruction']}\\n\\n### Input\\n{ex['input']}\\n\\n### Response\\n{ex['output']}\"\n",
    "    else:\n",
    "        return f\"### Instruction\\n{ex['instruction']}\\n\\n### Response\\n{ex['output']}\"\n"
   ]
  },
  {
   "cell_type": "code",
   "execution_count": null,
   "id": "d614246c",
   "metadata": {},
   "outputs": [],
   "source": [
    "model_name = \"distilgpt2\"  # small for demo\n",
    "tok = AutoTokenizer.from_pretrained(model_name)\n",
    "if tok.pad_token is None:\n",
    "    tok.pad_token = tok.eos_token\n",
    "\n",
    "# 4-bit load to save memory (optional)\n",
    "model = AutoModelForCausalLM.from_pretrained(\n",
    "    model_name,\n",
    "    load_in_4bit=True,\n",
    "    device_map=\"auto\"\n",
    ")\n",
    "\n",
    "peft_config = LoraConfig(\n",
    "    r=16, lora_alpha=32, lora_dropout=0.05,\n",
    "    target_modules=[\"c_attn\", \"c_proj\"],  # works for GPT2-family\n",
    "    bias=\"none\",\n",
    "    task_type=\"CAUSAL_LM\",\n",
    ")\n"
   ]
  },
  {
   "cell_type": "code",
   "execution_count": null,
   "id": "df81a01f",
   "metadata": {},
   "outputs": [],
   "source": [
    "cfg = SFTConfig(\n",
    "    output_dir=\"sft-lora-demo\",\n",
    "    per_device_train_batch_size=2,\n",
    "    gradient_accumulation_steps=4,\n",
    "    num_train_epochs=1,\n",
    "    learning_rate=2e-4,\n",
    "    logging_steps=20,\n",
    "    save_steps=200,\n",
    "    max_seq_length=256,\n",
    "    lr_scheduler_type=\"cosine\",\n",
    "    warmup_ratio=0.03,\n",
    "    bf16=True if torch.cuda.is_available() else False,\n",
    "    report_to=\"none\"\n",
    ")\n",
    "\n",
    "trainer = SFTTrainer(\n",
    "    model=model,\n",
    "    args=cfg,\n",
    "    train_dataset=ds,\n",
    "    formatting_func=lambda batch: [format_row(x) for x in batch],\n",
    "    tokenizer=tok,\n",
    "    peft_config=peft_config\n",
    ")\n",
    "trainer.train()\n",
    "trainer.model.save_pretrained(\"sft-lora-demo/model\")\n",
    "tok.save_pretrained(\"sft-lora-demo/tokenizer\")\n"
   ]
  },
  {
   "cell_type": "code",
   "execution_count": null,
   "id": "cf157f4c",
   "metadata": {},
   "outputs": [],
   "source": [
    "# Test generation\n",
    "from transformers import pipeline\n",
    "pipe = pipeline(\"text-generation\", model=\"sft-lora-demo/model\", tokenizer=\"sft-lora-demo/tokenizer\", device=0 if torch.cuda.is_available() else -1)\n",
    "prompt = \"### Instruction\\nTranslate to French\\n\\n### Input\\nFine-tuning with LoRA is efficient.\\n\\n### Response\\n\"\n",
    "out = pipe(prompt, max_new_tokens=60, do_sample=True, temperature=0.7)[0][\"generated_text\"]\n",
    "print(out)\n"
   ]
  }
 ],
 "metadata": {},
 "nbformat": 4,
 "nbformat_minor": 5
}
